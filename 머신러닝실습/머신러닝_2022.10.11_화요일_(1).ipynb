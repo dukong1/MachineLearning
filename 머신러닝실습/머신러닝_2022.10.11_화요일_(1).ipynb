{
 "cells": [
  {
   "cell_type": "code",
   "execution_count": 2,
   "id": "7b00e5c9",
   "metadata": {},
   "outputs": [],
   "source": [
    "from sklearn.model_selection import train_test_split\n",
    "from sklearn.linear_model import LinearRegression\n",
    "from sklearn.metrics import r2_score\n",
    "from sklearn.metrics import mean_absolute_error\n",
    "from sklearn.metrics import mean_squared_error\n",
    "from sklearn.metrics import mean_squared_log_error\n",
    "from sklearn.metrics import make_scorer"
   ]
  },
  {
   "cell_type": "code",
   "execution_count": 13,
   "id": "c05b5189",
   "metadata": {},
   "outputs": [],
   "source": [
    "x_data = [\n",
    "    [2,1],\n",
    "    [3,2],\n",
    "    [3,4],\n",
    "    [5,5],\n",
    "    [7,5],\n",
    "    [2,5],\n",
    "    [8,9],\n",
    "    [9,10],\n",
    "    [6,12],\n",
    "    [9,2],\n",
    "    [6,10],\n",
    "    [2,4]\n",
    "]\n",
    "\n",
    "y_data = [3,5,7,10,12,7,13,13,12,13,12,6]"
   ]
  },
  {
   "cell_type": "code",
   "execution_count": 14,
   "id": "e74de198",
   "metadata": {},
   "outputs": [],
   "source": [
    "x_train, x_test, y_train, y_test = train_test_split(x_data, y_data, test_size = 0.3, random_state = 0)"
   ]
  },
  {
   "cell_type": "code",
   "execution_count": 15,
   "id": "0882705f",
   "metadata": {},
   "outputs": [],
   "source": [
    "model = LinearRegression()"
   ]
  },
  {
   "cell_type": "code",
   "execution_count": 16,
   "id": "b6b034a3",
   "metadata": {},
   "outputs": [
    {
     "data": {
      "text/plain": [
       "LinearRegression()"
      ]
     },
     "execution_count": 16,
     "metadata": {},
     "output_type": "execute_result"
    }
   ],
   "source": [
    "model.fit(x_train, y_train)"
   ]
  },
  {
   "cell_type": "markdown",
   "id": "8a1f84b8",
   "metadata": {},
   "source": [
    "### r2 score"
   ]
  },
  {
   "cell_type": "code",
   "execution_count": 17,
   "id": "7e416db1",
   "metadata": {},
   "outputs": [
    {
     "data": {
      "text/plain": [
       "0.9356057047590941"
      ]
     },
     "execution_count": 17,
     "metadata": {},
     "output_type": "execute_result"
    }
   ],
   "source": [
    "model.score(x_test, y_test) # r2"
   ]
  },
  {
   "cell_type": "code",
   "execution_count": 20,
   "id": "8185384f",
   "metadata": {},
   "outputs": [
    {
     "data": {
      "text/plain": [
       "0.9356057047590941"
      ]
     },
     "execution_count": 20,
     "metadata": {},
     "output_type": "execute_result"
    }
   ],
   "source": [
    "score = make_scorer(r2_score)\n",
    "score(model, x_test, y_test) #r2"
   ]
  },
  {
   "cell_type": "markdown",
   "id": "e35260fc",
   "metadata": {},
   "source": [
    "### MAE"
   ]
  },
  {
   "cell_type": "code",
   "execution_count": 21,
   "id": "49030b6c",
   "metadata": {},
   "outputs": [
    {
     "data": {
      "text/plain": [
       "0.6021492393141756"
      ]
     },
     "execution_count": 21,
     "metadata": {},
     "output_type": "execute_result"
    }
   ],
   "source": [
    "score = make_scorer(mean_absolute_error)\n",
    "score(model, x_test, y_test) # MAE"
   ]
  },
  {
   "cell_type": "markdown",
   "id": "6d24222c",
   "metadata": {},
   "source": [
    "### MSE"
   ]
  },
  {
   "cell_type": "code",
   "execution_count": 22,
   "id": "8c06f83a",
   "metadata": {},
   "outputs": [
    {
     "data": {
      "text/plain": [
       "0.4950311446644644"
      ]
     },
     "execution_count": 22,
     "metadata": {},
     "output_type": "execute_result"
    }
   ],
   "source": [
    "score = make_scorer(mean_squared_error)\n",
    "score(model, x_test, y_test)"
   ]
  },
  {
   "cell_type": "markdown",
   "id": "3ac742d6",
   "metadata": {},
   "source": [
    "### RMSE"
   ]
  },
  {
   "cell_type": "code",
   "execution_count": 23,
   "id": "a0a60a4b",
   "metadata": {},
   "outputs": [],
   "source": [
    "import numpy as np"
   ]
  },
  {
   "cell_type": "code",
   "execution_count": 24,
   "id": "608358d8",
   "metadata": {},
   "outputs": [],
   "source": [
    "pred = model.predict(x_test)"
   ]
  },
  {
   "cell_type": "code",
   "execution_count": 25,
   "id": "0eb3f212",
   "metadata": {},
   "outputs": [],
   "source": [
    "def rmse(y_true, y_predict):\n",
    "    return np.sqrt(mean_squared_error(y_true, y_predict))"
   ]
  },
  {
   "cell_type": "code",
   "execution_count": 26,
   "id": "327df97e",
   "metadata": {},
   "outputs": [
    {
     "data": {
      "text/plain": [
       "0.7035844971746211"
      ]
     },
     "execution_count": 26,
     "metadata": {},
     "output_type": "execute_result"
    }
   ],
   "source": [
    "rmse(y_test, pred)"
   ]
  },
  {
   "cell_type": "code",
   "execution_count": 28,
   "id": "68b36fea",
   "metadata": {},
   "outputs": [
    {
     "data": {
      "text/plain": [
       "0.4950311446644644"
      ]
     },
     "execution_count": 28,
     "metadata": {},
     "output_type": "execute_result"
    }
   ],
   "source": [
    "score = make_scorer(mean_squared_error)\n",
    "score(model, x_test, y_test) # MSE"
   ]
  },
  {
   "cell_type": "code",
   "execution_count": 29,
   "id": "19be0dca",
   "metadata": {},
   "outputs": [
    {
     "name": "stdout",
     "output_type": "stream",
     "text": [
      "rmse :  0.7035844971746211\n"
     ]
    }
   ],
   "source": [
    "print('rmse : ', score(model, x_test, y_test)**0.5)"
   ]
  },
  {
   "cell_type": "code",
   "execution_count": null,
   "id": "1b3aba21",
   "metadata": {},
   "outputs": [],
   "source": []
  },
  {
   "cell_type": "code",
   "execution_count": null,
   "id": "c5d58bb0",
   "metadata": {},
   "outputs": [],
   "source": []
  },
  {
   "cell_type": "code",
   "execution_count": null,
   "id": "7dd6843b",
   "metadata": {},
   "outputs": [],
   "source": []
  }
 ],
 "metadata": {
  "kernelspec": {
   "display_name": "Python 3 (ipykernel)",
   "language": "python",
   "name": "python3"
  },
  "language_info": {
   "codemirror_mode": {
    "name": "ipython",
    "version": 3
   },
   "file_extension": ".py",
   "mimetype": "text/x-python",
   "name": "python",
   "nbconvert_exporter": "python",
   "pygments_lexer": "ipython3",
   "version": "3.9.12"
  }
 },
 "nbformat": 4,
 "nbformat_minor": 5
}
