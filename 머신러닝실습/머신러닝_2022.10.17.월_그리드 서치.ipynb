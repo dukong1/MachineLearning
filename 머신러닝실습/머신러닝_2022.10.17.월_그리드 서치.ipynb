{
 "cells": [
  {
   "cell_type": "markdown",
   "id": "317f34a0",
   "metadata": {},
   "source": [
    "### 1. iris 데이터를 활용하여 그리드서치 적용\n",
    "- 그리드서치는 교차검증을 동시에 수행"
   ]
  },
  {
   "cell_type": "code",
   "execution_count": 1,
   "id": "41366e0d",
   "metadata": {},
   "outputs": [],
   "source": [
    "from sklearn.datasets import load_iris\n",
    "from sklearn.neighbors import KNeighborsClassifier\n",
    "from sklearn.tree import DecisionTreeClassifier\n",
    "from sklearn.model_selection import train_test_split\n",
    "from sklearn.model_selection import GridSearchCV"
   ]
  },
  {
   "cell_type": "code",
   "execution_count": 2,
   "id": "4e3bac1e",
   "metadata": {},
   "outputs": [],
   "source": [
    "iris = load_iris()"
   ]
  },
  {
   "cell_type": "code",
   "execution_count": 3,
   "id": "ee5a9d71",
   "metadata": {},
   "outputs": [],
   "source": [
    "x_train, x_test, y_train, y_test = train_test_split(iris.data, \n",
    "                                                    iris.target, \n",
    "                                                    test_size=0.3, # test_size와 random_state는 설정 안해도 무방\n",
    "                                                    random_state=0)"
   ]
  },
  {
   "cell_type": "code",
   "execution_count": 8,
   "id": "b65b439c",
   "metadata": {},
   "outputs": [
    {
     "data": {
      "text/plain": [
       "(105, 4)"
      ]
     },
     "execution_count": 8,
     "metadata": {},
     "output_type": "execute_result"
    }
   ],
   "source": [
    "x_train.shape"
   ]
  },
  {
   "cell_type": "code",
   "execution_count": 9,
   "id": "b722a270",
   "metadata": {},
   "outputs": [
    {
     "data": {
      "text/plain": [
       "(105,)"
      ]
     },
     "execution_count": 9,
     "metadata": {},
     "output_type": "execute_result"
    }
   ],
   "source": [
    "y_train.shape # 모양이 같은지 확인"
   ]
  },
  {
   "cell_type": "code",
   "execution_count": 10,
   "id": "3345ed21",
   "metadata": {},
   "outputs": [
    {
     "data": {
      "text/plain": [
       "(45, 4)"
      ]
     },
     "execution_count": 10,
     "metadata": {},
     "output_type": "execute_result"
    }
   ],
   "source": [
    "x_test.shape"
   ]
  },
  {
   "cell_type": "code",
   "execution_count": 12,
   "id": "366fc5f7",
   "metadata": {},
   "outputs": [
    {
     "data": {
      "text/plain": [
       "(45,)"
      ]
     },
     "execution_count": 12,
     "metadata": {},
     "output_type": "execute_result"
    }
   ],
   "source": [
    "y_test.shape # 모양이 같은지 확인"
   ]
  },
  {
   "cell_type": "markdown",
   "id": "02b2a11e",
   "metadata": {},
   "source": [
    "### KNN 그리드서치"
   ]
  },
  {
   "cell_type": "code",
   "execution_count": 14,
   "id": "b2c655b4",
   "metadata": {},
   "outputs": [],
   "source": [
    "param_knn = {'n_neighbors': range(1,10)}"
   ]
  },
  {
   "cell_type": "code",
   "execution_count": 15,
   "id": "d2e326e7",
   "metadata": {},
   "outputs": [],
   "source": [
    "knn = GridSearchCV(KNeighborsClassifier(), # 그릳서치 안에서 KNeighbors를 불러온다\n",
    "                  param_knn, # 파라미터 범위\n",
    "                  cv = 10) # 교차검증 수\n"
   ]
  },
  {
   "cell_type": "code",
   "execution_count": 16,
   "id": "c58779c7",
   "metadata": {},
   "outputs": [
    {
     "data": {
      "text/plain": [
       "GridSearchCV(cv=10, estimator=KNeighborsClassifier(),\n",
       "             param_grid={'n_neighbors': range(1, 10)})"
      ]
     },
     "execution_count": 16,
     "metadata": {},
     "output_type": "execute_result"
    }
   ],
   "source": [
    "knn.fit(x_train, y_train)"
   ]
  },
  {
   "cell_type": "code",
   "execution_count": 17,
   "id": "6dfb51b7",
   "metadata": {},
   "outputs": [
    {
     "name": "stdout",
     "output_type": "stream",
     "text": [
      "최적의 파라미터:  {'n_neighbors': 6}\n"
     ]
    }
   ],
   "source": [
    "print('최적의 파라미터: ', knn.best_params_)"
   ]
  },
  {
   "cell_type": "code",
   "execution_count": 19,
   "id": "793ffa66",
   "metadata": {},
   "outputs": [
    {
     "name": "stdout",
     "output_type": "stream",
     "text": [
      "최고 교차검증 점수:  0.9609090909090909\n"
     ]
    }
   ],
   "source": [
    "print('최고 교차검증 점수: ', knn.best_score_)"
   ]
  },
  {
   "cell_type": "code",
   "execution_count": 20,
   "id": "94ec99f7",
   "metadata": {},
   "outputs": [
    {
     "name": "stdout",
     "output_type": "stream",
     "text": [
      "최고 성능 모델:  KNeighborsClassifier(n_neighbors=6)\n"
     ]
    }
   ],
   "source": [
    "print('최고 성능 모델: ', knn.best_estimator_)"
   ]
  },
  {
   "cell_type": "code",
   "execution_count": 21,
   "id": "65a58b61",
   "metadata": {},
   "outputs": [
    {
     "data": {
      "text/plain": [
       "array([2, 1, 0, 2, 0, 2, 0, 1, 1, 1, 2, 1, 1, 1, 1, 0, 1, 1, 0, 0, 2, 1,\n",
       "       0, 0, 2, 0, 0, 1, 1, 0, 2, 1, 0, 2, 2, 1, 0, 2, 1, 1, 2, 0, 2, 0,\n",
       "       0])"
      ]
     },
     "execution_count": 21,
     "metadata": {},
     "output_type": "execute_result"
    }
   ],
   "source": [
    "knn.predict(x_test)"
   ]
  },
  {
   "cell_type": "code",
   "execution_count": 22,
   "id": "6072b47b",
   "metadata": {},
   "outputs": [
    {
     "data": {
      "text/plain": [
       "0.9777777777777777"
      ]
     },
     "execution_count": 22,
     "metadata": {},
     "output_type": "execute_result"
    }
   ],
   "source": [
    "knn.score(x_test, y_test)"
   ]
  },
  {
   "cell_type": "markdown",
   "id": "4520c855",
   "metadata": {},
   "source": [
    "### Decision Tree"
   ]
  },
  {
   "cell_type": "code",
   "execution_count": 7,
   "id": "16b6308b",
   "metadata": {},
   "outputs": [],
   "source": [
    "param_df = {'max_depth': range(1, 10), \n",
    "            'max_leaf_nodes': range(1,10), \n",
    "            'min_samples_leaf': range(1,10) } # max_leaf_nodes: 말단 노드 최대 개수, min_samples_leaf: 말단 노드가 되기위한 최소한의 샘플 수 "
   ]
  },
  {
   "cell_type": "code",
   "execution_count": 8,
   "id": "70bde1b4",
   "metadata": {},
   "outputs": [],
   "source": [
    "dt = GridSearchCV(DecisionTreeClassifier(),\n",
    "                param_df,\n",
    "                 cv = 5)"
   ]
  },
  {
   "cell_type": "code",
   "execution_count": 9,
   "id": "d039f487",
   "metadata": {},
   "outputs": [
    {
     "name": "stderr",
     "output_type": "stream",
     "text": [
      "C:\\Users\\user\\anaconda3\\lib\\site-packages\\sklearn\\model_selection\\_validation.py:372: FitFailedWarning: \n",
      "405 fits failed out of a total of 3645.\n",
      "The score on these train-test partitions for these parameters will be set to nan.\n",
      "If these failures are not expected, you can try to debug them by setting error_score='raise'.\n",
      "\n",
      "Below are more details about the failures:\n",
      "--------------------------------------------------------------------------------\n",
      "405 fits failed with the following error:\n",
      "Traceback (most recent call last):\n",
      "  File \"C:\\Users\\user\\anaconda3\\lib\\site-packages\\sklearn\\model_selection\\_validation.py\", line 680, in _fit_and_score\n",
      "    estimator.fit(X_train, y_train, **fit_params)\n",
      "  File \"C:\\Users\\user\\anaconda3\\lib\\site-packages\\sklearn\\tree\\_classes.py\", line 937, in fit\n",
      "    super().fit(\n",
      "  File \"C:\\Users\\user\\anaconda3\\lib\\site-packages\\sklearn\\tree\\_classes.py\", line 314, in fit\n",
      "    raise ValueError(\n",
      "ValueError: max_leaf_nodes 1 must be either None or larger than 1\n",
      "\n",
      "  warnings.warn(some_fits_failed_message, FitFailedWarning)\n",
      "C:\\Users\\user\\anaconda3\\lib\\site-packages\\sklearn\\model_selection\\_search.py:969: UserWarning: One or more of the test scores are non-finite: [       nan        nan        nan        nan        nan        nan\n",
      "        nan        nan        nan 0.6952381  0.6952381  0.6952381\n",
      " 0.6952381  0.6952381  0.6952381  0.6952381  0.6952381  0.6952381\n",
      " 0.6952381  0.6952381  0.6952381  0.6952381  0.6952381  0.6952381\n",
      " 0.6952381  0.6952381  0.6952381  0.6952381  0.6952381  0.6952381\n",
      " 0.6952381  0.6952381  0.6952381  0.6952381  0.6952381  0.6952381\n",
      " 0.6952381  0.6952381  0.6952381  0.6952381  0.6952381  0.6952381\n",
      " 0.6952381  0.6952381  0.6952381  0.6952381  0.6952381  0.6952381\n",
      " 0.6952381  0.6952381  0.6952381  0.6952381  0.6952381  0.6952381\n",
      " 0.6952381  0.6952381  0.6952381  0.6952381  0.6952381  0.6952381\n",
      " 0.6952381  0.6952381  0.6952381  0.6952381  0.6952381  0.6952381\n",
      " 0.6952381  0.6952381  0.6952381  0.6952381  0.6952381  0.6952381\n",
      " 0.6952381  0.6952381  0.6952381  0.6952381  0.6952381  0.6952381\n",
      " 0.6952381  0.6952381  0.6952381         nan        nan        nan\n",
      "        nan        nan        nan        nan        nan        nan\n",
      " 0.6952381  0.6952381  0.6952381  0.6952381  0.6952381  0.6952381\n",
      " 0.6952381  0.6952381  0.6952381  0.93333333 0.93333333 0.93333333\n",
      " 0.93333333 0.93333333 0.93333333 0.93333333 0.93333333 0.93333333\n",
      " 0.93333333 0.93333333 0.93333333 0.93333333 0.93333333 0.93333333\n",
      " 0.93333333 0.93333333 0.93333333 0.93333333 0.93333333 0.93333333\n",
      " 0.93333333 0.93333333 0.93333333 0.93333333 0.93333333 0.93333333\n",
      " 0.93333333 0.93333333 0.93333333 0.93333333 0.93333333 0.93333333\n",
      " 0.93333333 0.93333333 0.93333333 0.93333333 0.93333333 0.93333333\n",
      " 0.93333333 0.93333333 0.93333333 0.93333333 0.93333333 0.93333333\n",
      " 0.93333333 0.93333333 0.93333333 0.93333333 0.93333333 0.93333333\n",
      " 0.93333333 0.93333333 0.93333333 0.93333333 0.93333333 0.93333333\n",
      " 0.93333333 0.93333333 0.93333333 0.93333333 0.93333333 0.93333333\n",
      "        nan        nan        nan        nan        nan        nan\n",
      "        nan        nan        nan 0.6952381  0.6952381  0.6952381\n",
      " 0.6952381  0.6952381  0.6952381  0.6952381  0.6952381  0.6952381\n",
      " 0.93333333 0.93333333 0.93333333 0.93333333 0.93333333 0.93333333\n",
      " 0.93333333 0.93333333 0.93333333 0.94285714 0.94285714 0.94285714\n",
      " 0.93333333 0.93333333 0.93333333 0.93333333 0.93333333 0.93333333\n",
      " 0.94285714 0.94285714 0.94285714 0.93333333 0.93333333 0.93333333\n",
      " 0.93333333 0.93333333 0.93333333 0.94285714 0.94285714 0.94285714\n",
      " 0.93333333 0.93333333 0.93333333 0.93333333 0.93333333 0.93333333\n",
      " 0.94285714 0.94285714 0.94285714 0.93333333 0.93333333 0.93333333\n",
      " 0.93333333 0.93333333 0.93333333 0.94285714 0.94285714 0.94285714\n",
      " 0.93333333 0.93333333 0.93333333 0.93333333 0.93333333 0.93333333\n",
      " 0.94285714 0.94285714 0.94285714 0.93333333 0.93333333 0.93333333\n",
      " 0.93333333 0.93333333 0.93333333        nan        nan        nan\n",
      "        nan        nan        nan        nan        nan        nan\n",
      " 0.6952381  0.6952381  0.6952381  0.6952381  0.6952381  0.6952381\n",
      " 0.6952381  0.6952381  0.6952381  0.93333333 0.93333333 0.93333333\n",
      " 0.93333333 0.93333333 0.93333333 0.93333333 0.93333333 0.93333333\n",
      " 0.94285714 0.94285714 0.94285714 0.93333333 0.93333333 0.93333333\n",
      " 0.93333333 0.93333333 0.93333333 0.93333333 0.94285714 0.94285714\n",
      " 0.93333333 0.93333333 0.93333333 0.93333333 0.93333333 0.93333333\n",
      " 0.93333333 0.94285714 0.94285714 0.93333333 0.93333333 0.93333333\n",
      " 0.93333333 0.93333333 0.93333333 0.93333333 0.96190476 0.94285714\n",
      " 0.93333333 0.93333333 0.93333333 0.93333333 0.93333333 0.93333333\n",
      " 0.93333333 0.94285714 0.94285714 0.93333333 0.93333333 0.93333333\n",
      " 0.93333333 0.93333333 0.93333333 0.93333333 0.94285714 0.94285714\n",
      " 0.93333333 0.93333333 0.93333333 0.93333333 0.93333333 0.93333333\n",
      "        nan        nan        nan        nan        nan        nan\n",
      "        nan        nan        nan 0.6952381  0.6952381  0.6952381\n",
      " 0.6952381  0.6952381  0.6952381  0.6952381  0.6952381  0.6952381\n",
      " 0.93333333 0.93333333 0.93333333 0.93333333 0.93333333 0.93333333\n",
      " 0.93333333 0.93333333 0.93333333 0.94285714 0.94285714 0.94285714\n",
      " 0.93333333 0.93333333 0.93333333 0.93333333 0.93333333 0.93333333\n",
      " 0.95238095 0.94285714 0.94285714 0.93333333 0.93333333 0.93333333\n",
      " 0.93333333 0.93333333 0.93333333 0.95238095 0.94285714 0.94285714\n",
      " 0.93333333 0.93333333 0.93333333 0.93333333 0.93333333 0.93333333\n",
      " 0.93333333 0.96190476 0.94285714 0.93333333 0.93333333 0.93333333\n",
      " 0.93333333 0.93333333 0.93333333 0.93333333 0.96190476 0.94285714\n",
      " 0.93333333 0.93333333 0.93333333 0.93333333 0.93333333 0.93333333\n",
      " 0.95238095 0.94285714 0.94285714 0.93333333 0.93333333 0.93333333\n",
      " 0.93333333 0.93333333 0.93333333        nan        nan        nan\n",
      "        nan        nan        nan        nan        nan        nan\n",
      " 0.6952381  0.6952381  0.6952381  0.6952381  0.6952381  0.6952381\n",
      " 0.6952381  0.6952381  0.6952381  0.93333333 0.93333333 0.93333333\n",
      " 0.93333333 0.93333333 0.93333333 0.93333333 0.93333333 0.93333333\n",
      " 0.94285714 0.94285714 0.94285714 0.93333333 0.93333333 0.93333333\n",
      " 0.93333333 0.93333333 0.93333333 0.95238095 0.96190476 0.94285714\n",
      " 0.93333333 0.93333333 0.93333333 0.93333333 0.93333333 0.93333333\n",
      " 0.95238095 0.94285714 0.94285714 0.93333333 0.93333333 0.93333333\n",
      " 0.93333333 0.93333333 0.93333333 0.95238095 0.94285714 0.94285714\n",
      " 0.93333333 0.93333333 0.93333333 0.93333333 0.93333333 0.93333333\n",
      " 0.94285714 0.96190476 0.94285714 0.93333333 0.93333333 0.93333333\n",
      " 0.93333333 0.93333333 0.93333333 0.95238095 0.96190476 0.94285714\n",
      " 0.93333333 0.93333333 0.93333333 0.93333333 0.93333333 0.93333333\n",
      "        nan        nan        nan        nan        nan        nan\n",
      "        nan        nan        nan 0.6952381  0.6952381  0.6952381\n",
      " 0.6952381  0.6952381  0.6952381  0.6952381  0.6952381  0.6952381\n",
      " 0.93333333 0.93333333 0.93333333 0.93333333 0.93333333 0.93333333\n",
      " 0.93333333 0.93333333 0.93333333 0.94285714 0.94285714 0.94285714\n",
      " 0.93333333 0.93333333 0.93333333 0.93333333 0.93333333 0.93333333\n",
      " 0.95238095 0.96190476 0.94285714 0.93333333 0.93333333 0.93333333\n",
      " 0.93333333 0.93333333 0.93333333 0.93333333 0.96190476 0.94285714\n",
      " 0.93333333 0.93333333 0.93333333 0.93333333 0.93333333 0.93333333\n",
      " 0.95238095 0.94285714 0.94285714 0.93333333 0.93333333 0.93333333\n",
      " 0.93333333 0.93333333 0.93333333 0.93333333 0.96190476 0.94285714\n",
      " 0.93333333 0.93333333 0.93333333 0.93333333 0.93333333 0.93333333\n",
      " 0.95238095 0.94285714 0.94285714 0.93333333 0.93333333 0.93333333\n",
      " 0.93333333 0.93333333 0.93333333        nan        nan        nan\n",
      "        nan        nan        nan        nan        nan        nan\n",
      " 0.6952381  0.6952381  0.6952381  0.6952381  0.6952381  0.6952381\n",
      " 0.6952381  0.6952381  0.6952381  0.93333333 0.93333333 0.93333333\n",
      " 0.93333333 0.93333333 0.93333333 0.93333333 0.93333333 0.93333333\n",
      " 0.94285714 0.94285714 0.94285714 0.93333333 0.93333333 0.93333333\n",
      " 0.93333333 0.93333333 0.93333333 0.93333333 0.94285714 0.94285714\n",
      " 0.93333333 0.93333333 0.93333333 0.93333333 0.93333333 0.93333333\n",
      " 0.95238095 0.96190476 0.94285714 0.93333333 0.93333333 0.93333333\n",
      " 0.93333333 0.93333333 0.93333333 0.95238095 0.94285714 0.94285714\n",
      " 0.93333333 0.93333333 0.93333333 0.93333333 0.93333333 0.93333333\n",
      " 0.93333333 0.94285714 0.94285714 0.93333333 0.93333333 0.93333333\n",
      " 0.93333333 0.93333333 0.93333333 0.94285714 0.94285714 0.94285714\n",
      " 0.93333333 0.93333333 0.93333333 0.93333333 0.93333333 0.93333333\n",
      "        nan        nan        nan        nan        nan        nan\n",
      "        nan        nan        nan 0.6952381  0.6952381  0.6952381\n",
      " 0.6952381  0.6952381  0.6952381  0.6952381  0.6952381  0.6952381\n",
      " 0.93333333 0.93333333 0.93333333 0.93333333 0.93333333 0.93333333\n",
      " 0.93333333 0.93333333 0.93333333 0.94285714 0.94285714 0.94285714\n",
      " 0.93333333 0.93333333 0.93333333 0.93333333 0.93333333 0.93333333\n",
      " 0.93333333 0.94285714 0.94285714 0.93333333 0.93333333 0.93333333\n",
      " 0.93333333 0.93333333 0.93333333 0.93333333 0.94285714 0.94285714\n",
      " 0.93333333 0.93333333 0.93333333 0.93333333 0.93333333 0.93333333\n",
      " 0.93333333 0.96190476 0.94285714 0.93333333 0.93333333 0.93333333\n",
      " 0.93333333 0.93333333 0.93333333 0.95238095 0.96190476 0.94285714\n",
      " 0.93333333 0.93333333 0.93333333 0.93333333 0.93333333 0.93333333\n",
      " 0.93333333 0.96190476 0.94285714 0.93333333 0.93333333 0.93333333\n",
      " 0.93333333 0.93333333 0.93333333]\n",
      "  warnings.warn(\n"
     ]
    },
    {
     "data": {
      "text/plain": [
       "GridSearchCV(cv=5, estimator=DecisionTreeClassifier(),\n",
       "             param_grid={'max_depth': range(1, 10),\n",
       "                         'max_leaf_nodes': range(1, 10),\n",
       "                         'min_samples_leaf': range(1, 10)})"
      ]
     },
     "execution_count": 9,
     "metadata": {},
     "output_type": "execute_result"
    }
   ],
   "source": [
    "dt.fit(x_train, y_train)"
   ]
  },
  {
   "cell_type": "code",
   "execution_count": 10,
   "id": "4c223d9e",
   "metadata": {},
   "outputs": [
    {
     "name": "stdout",
     "output_type": "stream",
     "text": [
      "최적의 파라미터:  {'max_depth': 4, 'max_leaf_nodes': 7, 'min_samples_leaf': 2}\n"
     ]
    }
   ],
   "source": [
    "print('최적의 파라미터: ', dt.best_params_)"
   ]
  },
  {
   "cell_type": "code",
   "execution_count": 11,
   "id": "a26b67b0",
   "metadata": {},
   "outputs": [
    {
     "name": "stdout",
     "output_type": "stream",
     "text": [
      "최적의 교차 검증:  0.9619047619047618\n"
     ]
    }
   ],
   "source": [
    "print('최적의 교차 검증: ', dt.best_score_)"
   ]
  },
  {
   "cell_type": "code",
   "execution_count": 12,
   "id": "3d02548c",
   "metadata": {},
   "outputs": [
    {
     "name": "stdout",
     "output_type": "stream",
     "text": [
      "최고 성능 모델:  DecisionTreeClassifier(max_depth=4, max_leaf_nodes=7, min_samples_leaf=2)\n"
     ]
    }
   ],
   "source": [
    "print('최고 성능 모델: ', dt.best_estimator_)"
   ]
  },
  {
   "cell_type": "code",
   "execution_count": 13,
   "id": "39a1976a",
   "metadata": {},
   "outputs": [
    {
     "data": {
      "text/plain": [
       "array([2, 1, 0, 2, 0, 2, 0, 1, 1, 1, 2, 1, 1, 1, 1, 0, 1, 1, 0, 0, 2, 1,\n",
       "       0, 0, 2, 0, 0, 1, 1, 0, 2, 1, 0, 1, 2, 1, 0, 1, 1, 1, 2, 0, 2, 0,\n",
       "       0])"
      ]
     },
     "execution_count": 13,
     "metadata": {},
     "output_type": "execute_result"
    }
   ],
   "source": [
    "dt.predict(x_test)"
   ]
  },
  {
   "cell_type": "code",
   "execution_count": 14,
   "id": "1b14bdc0",
   "metadata": {},
   "outputs": [
    {
     "data": {
      "text/plain": [
       "0.9777777777777777"
      ]
     },
     "execution_count": 14,
     "metadata": {},
     "output_type": "execute_result"
    }
   ],
   "source": [
    "dt.score(x_test, y_test)"
   ]
  },
  {
   "cell_type": "code",
   "execution_count": null,
   "id": "ec48c1e2",
   "metadata": {},
   "outputs": [],
   "source": []
  }
 ],
 "metadata": {
  "kernelspec": {
   "display_name": "Python 3 (ipykernel)",
   "language": "python",
   "name": "python3"
  },
  "language_info": {
   "codemirror_mode": {
    "name": "ipython",
    "version": 3
   },
   "file_extension": ".py",
   "mimetype": "text/x-python",
   "name": "python",
   "nbconvert_exporter": "python",
   "pygments_lexer": "ipython3",
   "version": "3.9.12"
  }
 },
 "nbformat": 4,
 "nbformat_minor": 5
}
