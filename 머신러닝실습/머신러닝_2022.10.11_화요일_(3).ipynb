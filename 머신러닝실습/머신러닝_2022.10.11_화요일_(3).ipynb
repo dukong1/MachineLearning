{
 "cells": [
  {
   "cell_type": "code",
   "execution_count": 1,
   "id": "7334a2d4",
   "metadata": {},
   "outputs": [],
   "source": [
    "import mglearn\n",
    "from sklearn.linear_model import LinearRegression\n",
    "from sklearn.model_selection import train_test_split"
   ]
  },
  {
   "cell_type": "code",
   "execution_count": 2,
   "id": "9382b069",
   "metadata": {},
   "outputs": [],
   "source": [
    "x, y = mglearn.datasets.make_wave(n_samples=60)"
   ]
  },
  {
   "cell_type": "code",
   "execution_count": 3,
   "id": "0ccda48d",
   "metadata": {},
   "outputs": [],
   "source": [
    "x_train, x_test, y_train, y_test = train_test_split(x, y, random_state=0)"
   ]
  },
  {
   "cell_type": "code",
   "execution_count": 4,
   "id": "e135f1d3",
   "metadata": {},
   "outputs": [],
   "source": [
    "lr = LinearRegression()"
   ]
  },
  {
   "cell_type": "code",
   "execution_count": 6,
   "id": "6aad0994",
   "metadata": {},
   "outputs": [
    {
     "data": {
      "text/plain": [
       "LinearRegression()"
      ]
     },
     "execution_count": 6,
     "metadata": {},
     "output_type": "execute_result"
    }
   ],
   "source": [
    "lr.fit(x_train, y_train)"
   ]
  },
  {
   "cell_type": "code",
   "execution_count": 7,
   "id": "117fe1e5",
   "metadata": {},
   "outputs": [
    {
     "data": {
      "text/plain": [
       "array([0.44153666])"
      ]
     },
     "execution_count": 7,
     "metadata": {},
     "output_type": "execute_result"
    }
   ],
   "source": [
    "lr.coef_"
   ]
  },
  {
   "cell_type": "code",
   "execution_count": 8,
   "id": "87b4ce8f",
   "metadata": {},
   "outputs": [
    {
     "data": {
      "text/plain": [
       "-0.01711124414733381"
      ]
     },
     "execution_count": 8,
     "metadata": {},
     "output_type": "execute_result"
    }
   ],
   "source": [
    "lr.intercept_"
   ]
  },
  {
   "cell_type": "markdown",
   "id": "473e08ea",
   "metadata": {},
   "source": [
    "### y = 0.4415x - 0.01711 (직선의 방정식)"
   ]
  },
  {
   "cell_type": "code",
   "execution_count": 10,
   "id": "e1fc05fb",
   "metadata": {},
   "outputs": [],
   "source": [
    "train = lr.score(x_train, y_train)\n",
    "test = lr.score(x_test, y_test) # r2(r스퀘어 값이다.)"
   ]
  },
  {
   "cell_type": "code",
   "execution_count": 11,
   "id": "10bf8030",
   "metadata": {},
   "outputs": [
    {
     "name": "stdout",
     "output_type": "stream",
     "text": [
      "훈련 데이터 점수:  0.6592061059587275\n",
      "테스트 데이터 점수:  0.6932519118518163\n"
     ]
    }
   ],
   "source": [
    "print('훈련 데이터 점수: ', train)\n",
    "print('테스트 데이터 점수: ', test)"
   ]
  },
  {
   "cell_type": "markdown",
   "id": "b3fd8a77",
   "metadata": {},
   "source": [
    "### 보스턴 주택가격 - 선형회귀"
   ]
  },
  {
   "cell_type": "code",
   "execution_count": 12,
   "id": "82b0cfba",
   "metadata": {},
   "outputs": [],
   "source": [
    "import warnings\n",
    "warnings.filterwarnings('ignore', category=FutureWarning)"
   ]
  },
  {
   "cell_type": "code",
   "execution_count": 13,
   "id": "e060eda5",
   "metadata": {},
   "outputs": [],
   "source": [
    "x, y = mglearn.datasets.load_extended_boston()"
   ]
  },
  {
   "cell_type": "code",
   "execution_count": 14,
   "id": "d04ec493",
   "metadata": {},
   "outputs": [],
   "source": [
    "x_train, x_test, y_train, y_test = train_test_split(x, y, test_size=0.2, random_state=0)"
   ]
  },
  {
   "cell_type": "code",
   "execution_count": 15,
   "id": "f85c76c5",
   "metadata": {},
   "outputs": [],
   "source": [
    "lr = LinearRegression().fit(x_train, y_train) # 모델 정의 + 모델 학습"
   ]
  },
  {
   "cell_type": "code",
   "execution_count": 16,
   "id": "16375b17",
   "metadata": {},
   "outputs": [],
   "source": [
    "train = lr.score(x_train, y_train) # r2\n",
    "test = lr.score(x_test, y_test)"
   ]
  },
  {
   "cell_type": "code",
   "execution_count": 17,
   "id": "8c61b05e",
   "metadata": {},
   "outputs": [
    {
     "name": "stdout",
     "output_type": "stream",
     "text": [
      "훈련 세트 점수:  0.9490240966612832\n",
      "테스트 세트 점수:  0.615885858407885\n"
     ]
    }
   ],
   "source": [
    "print('훈련 세트 점수: ', train)\n",
    "print('테스트 세트 점수: ', test)"
   ]
  },
  {
   "cell_type": "markdown",
   "id": "c783df39",
   "metadata": {},
   "source": [
    "### 릿지 회귀\n",
    "- 릿지라는 규제를 주어서 설명력에 변화를 줌...?"
   ]
  },
  {
   "cell_type": "code",
   "execution_count": 18,
   "id": "b96f8fca",
   "metadata": {},
   "outputs": [],
   "source": [
    "from sklearn.linear_model import Ridge"
   ]
  },
  {
   "cell_type": "code",
   "execution_count": 20,
   "id": "b2628ef7",
   "metadata": {},
   "outputs": [],
   "source": [
    "ridge = Ridge().fit(x_train, y_train) # 기본 하이퍼파라미터를 쓴다. 알파값 지정 X"
   ]
  },
  {
   "cell_type": "code",
   "execution_count": 21,
   "id": "e133259b",
   "metadata": {},
   "outputs": [],
   "source": [
    "train = ridge.score(x_train, y_train)\n",
    "test = ridge.score(x_test, y_test)"
   ]
  },
  {
   "cell_type": "code",
   "execution_count": 22,
   "id": "6cc55116",
   "metadata": {},
   "outputs": [
    {
     "name": "stdout",
     "output_type": "stream",
     "text": [
      "훈련 세트 점수:  0.8858089292103583\n",
      "테스트 세트 점수:  0.7214499108060967\n"
     ]
    }
   ],
   "source": [
    "print('훈련 세트 점수: ', train)\n",
    "print('테스트 세트 점수: ', test)"
   ]
  },
  {
   "cell_type": "code",
   "execution_count": 23,
   "id": "17c6ac8b",
   "metadata": {},
   "outputs": [],
   "source": [
    "ridge10 = Ridge(alpha=10).fit(x_train, y_train)"
   ]
  },
  {
   "cell_type": "code",
   "execution_count": 24,
   "id": "36b239fc",
   "metadata": {},
   "outputs": [],
   "source": [
    "train10 = ridge10.score(x_train, y_train)\n",
    "test10 = ridge10.score(x_test, y_test)"
   ]
  },
  {
   "cell_type": "code",
   "execution_count": 25,
   "id": "80559e95",
   "metadata": {},
   "outputs": [
    {
     "name": "stdout",
     "output_type": "stream",
     "text": [
      "훈련 세트 점수:  0.7934484752213662\n",
      "테스트 세트 점수:  0.5886807784434768\n"
     ]
    }
   ],
   "source": [
    "print('훈련 세트 점수: ', train10)\n",
    "print('테스트 세트 점수: ', test10) # 알파를 통해 규제값을 크게 줌"
   ]
  },
  {
   "cell_type": "code",
   "execution_count": 26,
   "id": "52f5571f",
   "metadata": {},
   "outputs": [],
   "source": [
    "ridge01 = Ridge(alpha=0.1).fit(x_train, y_train)"
   ]
  },
  {
   "cell_type": "code",
   "execution_count": 28,
   "id": "3d4e0316",
   "metadata": {},
   "outputs": [],
   "source": [
    "train01 = ridge01.score(x_train, y_train)\n",
    "test01 = ridge01.score(x_test, y_test)"
   ]
  },
  {
   "cell_type": "code",
   "execution_count": 29,
   "id": "6253b468",
   "metadata": {},
   "outputs": [
    {
     "name": "stdout",
     "output_type": "stream",
     "text": [
      "훈련 세트 점수:  0.9261926604874957\n",
      "테스트 세트 점수:  0.7463824108919292\n"
     ]
    }
   ],
   "source": [
    "print('훈련 세트 점수: ', train01)\n",
    "print('테스트 세트 점수: ', test01)"
   ]
  },
  {
   "cell_type": "markdown",
   "id": "f13deeb5",
   "metadata": {},
   "source": [
    "### 랏소"
   ]
  },
  {
   "cell_type": "code",
   "execution_count": 30,
   "id": "4347e820",
   "metadata": {},
   "outputs": [],
   "source": [
    "import numpy as np"
   ]
  },
  {
   "cell_type": "code",
   "execution_count": 32,
   "id": "78ce902b",
   "metadata": {},
   "outputs": [],
   "source": [
    "from sklearn.linear_model import Lasso"
   ]
  },
  {
   "cell_type": "code",
   "execution_count": 33,
   "id": "85428db6",
   "metadata": {},
   "outputs": [],
   "source": [
    "lasso = Lasso().fit(x_train, y_train)"
   ]
  },
  {
   "cell_type": "code",
   "execution_count": 34,
   "id": "bf4a2392",
   "metadata": {},
   "outputs": [],
   "source": [
    "train = lasso.score(x_train, y_train)\n",
    "test = lasso.score(x_test, y_test)"
   ]
  },
  {
   "cell_type": "code",
   "execution_count": 35,
   "id": "282c402f",
   "metadata": {},
   "outputs": [
    {
     "name": "stdout",
     "output_type": "stream",
     "text": [
      "훈련 세트 점수:  0.30173392764195583\n",
      "테스트 세트 점수:  0.18559880937915907\n"
     ]
    }
   ],
   "source": [
    "print('훈련 세트 점수: ', train)\n",
    "print('테스트 세트 점수: ', test)"
   ]
  },
  {
   "cell_type": "code",
   "execution_count": 36,
   "id": "0725fa13",
   "metadata": {},
   "outputs": [
    {
     "name": "stdout",
     "output_type": "stream",
     "text": [
      "사용한 특성의 개수:  4\n"
     ]
    }
   ],
   "source": [
    "print('사용한 특성의 개수: ', np.sum(lasso.coef_ != 0)) # 가중치가 0이 아닌 특성을 뽑아본다."
   ]
  },
  {
   "cell_type": "code",
   "execution_count": 37,
   "id": "85103ee5",
   "metadata": {},
   "outputs": [],
   "source": [
    "lasso001 = Lasso(alpha=0.01, max_iter=10000).fit(x_train, y_train)\n",
    "# max_iter: 학습을 하는 횟수, 너무 적게 주면 과소적합된다. 적당한 값을 입력해 줘야한다."
   ]
  },
  {
   "cell_type": "code",
   "execution_count": 38,
   "id": "aed80bb6",
   "metadata": {},
   "outputs": [],
   "source": [
    "train = lasso001.score(x_train, y_train)\n",
    "test = lasso001.score(x_test, y_test)"
   ]
  },
  {
   "cell_type": "code",
   "execution_count": 39,
   "id": "8595ec59",
   "metadata": {},
   "outputs": [
    {
     "name": "stdout",
     "output_type": "stream",
     "text": [
      "훈련 세트 점수:  0.8940116521466668\n",
      "테스트 세트 점수:  0.7360953366341125\n"
     ]
    }
   ],
   "source": [
    "print('훈련 세트 점수: ', train) # r2\n",
    "print('테스트 세트 점수: ', test)"
   ]
  },
  {
   "cell_type": "code",
   "execution_count": 40,
   "id": "cd26a6fd",
   "metadata": {},
   "outputs": [
    {
     "name": "stdout",
     "output_type": "stream",
     "text": [
      "사용한 특성의 개수:  34\n"
     ]
    }
   ],
   "source": [
    "print('사용한 특성의 개수: ', np.sum(lasso001.coef_ != 0))"
   ]
  },
  {
   "cell_type": "code",
   "execution_count": 41,
   "id": "2311900e",
   "metadata": {},
   "outputs": [
    {
     "name": "stderr",
     "output_type": "stream",
     "text": [
      "C:\\Users\\user\\anaconda3\\lib\\site-packages\\sklearn\\linear_model\\_coordinate_descent.py:647: ConvergenceWarning: Objective did not converge. You might want to increase the number of iterations, check the scale of the features or consider increasing regularisation. Duality gap: 3.481e+00, tolerance: 3.440e+00\n",
      "  model = cd_fast.enet_coordinate_descent(\n"
     ]
    }
   ],
   "source": [
    "lasso00001 = Lasso(alpha=0.0001, max_iter=50000).fit(x_train, y_train)"
   ]
  },
  {
   "cell_type": "code",
   "execution_count": 42,
   "id": "7276406c",
   "metadata": {},
   "outputs": [],
   "source": [
    "train = lasso00001.score(x_train, y_train)\n",
    "test = lasso00001.score(x_test, y_test)"
   ]
  },
  {
   "cell_type": "code",
   "execution_count": 43,
   "id": "8ab4e965",
   "metadata": {},
   "outputs": [
    {
     "name": "stdout",
     "output_type": "stream",
     "text": [
      "훈련 세트 점수:  0.9478035785798402\n",
      "테스츠 세트 점수:  0.6453342633073322\n"
     ]
    }
   ],
   "source": [
    "print('훈련 세트 점수: ', train)\n",
    "print('테스츠 세트 점수: ', test)"
   ]
  },
  {
   "cell_type": "code",
   "execution_count": 44,
   "id": "5a9dd3d7",
   "metadata": {},
   "outputs": [
    {
     "name": "stdout",
     "output_type": "stream",
     "text": [
      "사용한 특성의 개수:  96\n"
     ]
    }
   ],
   "source": [
    "print('사용한 특성의 개수: ', np.sum(lasso00001.coef_ != 0))"
   ]
  },
  {
   "cell_type": "code",
   "execution_count": null,
   "id": "f89b115b",
   "metadata": {},
   "outputs": [],
   "source": []
  }
 ],
 "metadata": {
  "kernelspec": {
   "display_name": "Python 3 (ipykernel)",
   "language": "python",
   "name": "python3"
  },
  "language_info": {
   "codemirror_mode": {
    "name": "ipython",
    "version": 3
   },
   "file_extension": ".py",
   "mimetype": "text/x-python",
   "name": "python",
   "nbconvert_exporter": "python",
   "pygments_lexer": "ipython3",
   "version": "3.9.12"
  }
 },
 "nbformat": 4,
 "nbformat_minor": 5
}
